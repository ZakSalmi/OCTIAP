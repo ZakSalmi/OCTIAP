{
 "cells": [
  {
   "cell_type": "code",
   "execution_count": null,
   "metadata": {},
   "outputs": [],
   "source": [
    "import sqlite3\n",
    "import requests\n",
    "import pandas as pd\n",
    "from pprint import pprint\n",
    "from OTXv2 import OTXv2, IndicatorTypes"
   ]
  },
  {
   "cell_type": "code",
   "execution_count": null,
   "metadata": {},
   "outputs": [],
   "source": [
    "# Connect to the database\n",
    "connection = sqlite3.connect('2023-10-25_cti_data_majd.db')\n",
    "cursor = connection.cursor()"
   ]
  },
  {
   "cell_type": "code",
   "execution_count": null,
   "metadata": {},
   "outputs": [],
   "source": [
    "def get_table_columns(table_name, cursor):\n",
    "    # Execute a query to get the column names for a specific table\n",
    "    cursor.execute(f\"PRAGMA table_info({table_name});\")\n",
    "\n",
    "    # Fetch the results\n",
    "    columns = cursor.fetchall()\n",
    "\n",
    "    # Return a list of column names\n",
    "    return [column[1] for column in columns]"
   ]
  },
  {
   "cell_type": "code",
   "execution_count": null,
   "metadata": {},
   "outputs": [],
   "source": [
    "# Pulses Table\n",
    "query = 'SELECT * FROM pulses order by created'\n",
    "\n",
    "cursor.execute(query)\n",
    "\n",
    "# Fetch the results\n",
    "pulse_results = cursor.fetchall()\n",
    "\n",
    "# Get the columns\n",
    "pulse_columns = get_table_columns('pulses', cursor)\n",
    "\n",
    "# Dataframe\n",
    "pulses = pd.DataFrame(pulse_results, columns=pulse_columns)\n",
    "pulses.head()"
   ]
  },
  {
   "cell_type": "code",
   "execution_count": null,
   "metadata": {},
   "outputs": [],
   "source": [
    "# indicators Table\n",
    "query = 'SELECT * FROM indicators order by created'\n",
    "\n",
    "cursor.execute(query)\n",
    "\n",
    "# Fetch the results\n",
    "indicators_results = cursor.fetchall()\n",
    "\n",
    "# Get the columns\n",
    "indicators_columns = get_table_columns('indicators', cursor)\n",
    "\n",
    "# Dataframe\n",
    "indicators = pd.DataFrame(indicators_results, columns=indicators_columns)\n",
    "indicators.head()"
   ]
  },
  {
   "cell_type": "code",
   "execution_count": null,
   "metadata": {},
   "outputs": [],
   "source": [
    "merged = pd.merge(indicators, ip_location, left_on='indicator', right_on='ip', how='outer').drop('ip', axis=1)"
   ]
  },
  {
   "cell_type": "code",
   "execution_count": null,
   "metadata": {},
   "outputs": [],
   "source": [
    "# indicators Table\n",
    "query = 'SELECT * FROM ip_location'\n",
    "\n",
    "cursor.execute(query)\n",
    "\n",
    "# Fetch the results\n",
    "ip_results = cursor.fetchall()\n",
    "\n",
    "# Get the columns\n",
    "ip_columns = get_table_columns('ip_location', cursor)\n",
    "\n",
    "# Dataframe\n",
    "ip_location = pd.DataFrame(ip_results, columns=ip_columns)\n",
    "ip_location"
   ]
  },
  {
   "cell_type": "code",
   "execution_count": null,
   "metadata": {},
   "outputs": [],
   "source": [
    "def process_data(data, columns):\n",
    "    # Ensure that the column names are valid keys\n",
    "    valid_columns = [name.replace(\" \", \"_\").lower() for name in columns]\n",
    "\n",
    "    # Zip the valid column names with the data\n",
    "    formated = [dict(zip(valid_columns, row)) for row in data]\n",
    "\n",
    "    return formated"
   ]
  },
  {
   "cell_type": "code",
   "execution_count": null,
   "metadata": {},
   "outputs": [],
   "source": [
    "otx_api_key = \"b33bf61f62c7e7da86bb84481591a0844630323831ec210fd8c2e2efbfdc131a\"\n",
    "otx = OTXv2(otx_api_key)"
   ]
  },
  {
   "cell_type": "code",
   "execution_count": null,
   "metadata": {},
   "outputs": [],
   "source": [
    "# Get all pulses\n",
    "pulses = otx.getall()"
   ]
  },
  {
   "cell_type": "code",
   "execution_count": null,
   "metadata": {},
   "outputs": [],
   "source": [
    "headers = {\n",
    "    'Content-Type': 'application/json',\n",
    "    'X-OTX-API-KEY': otx_api_key,\n",
    "}\n",
    "pulses_data = process_data(pulse_results, pulse_columns)"
   ]
  },
  {
   "cell_type": "code",
   "execution_count": null,
   "metadata": {},
   "outputs": [],
   "source": [
    "# Delete each pulse\n",
    "for i, pulse in enumerate(pulses):\n",
    "    pulse_id = pulse['id']\n",
    "    response = requests.get(f'https://otx.alienvault.com/api/v1/pulses/{pulse_id}/delete', headers=headers)\n",
    "    if i % 100 == 0:\n",
    "        print(i)"
   ]
  },
  {
   "cell_type": "code",
   "execution_count": null,
   "metadata": {},
   "outputs": [],
   "source": [
    "try:\n",
    "    for i, pulse_data in enumerate(pulses_data):\n",
    "        pulse_name = pulse_data['name'] if len(pulse_data['name'])>= 5 else 'Undefined Name'\n",
    "\n",
    "        pulse_indicators = merged[merged['pulse_id'] == pulse_data['id']][['indicator', 'type', 'created', 'content', 'title', 'description', 'expiration', 'is_active']].to_dict(orient='records')\n",
    "        \n",
    "        if not pulse_indicators:\n",
    "            print(f\"No indicators found for pulse: {pulse_name}\")\n",
    "            continue\n",
    "        # pprint(pulse_data['id'])\n",
    "\n",
    "\n",
    "        otx.create_pulse(\n",
    "            name=pulse_name,\n",
    "            public=True,\n",
    "            indicators=pulse_indicators,\n",
    "            tags=[],\n",
    "            references=[],\n",
    "        )\n",
    "        if i % 100 == 0:\n",
    "            print(i)\n",
    "\n",
    "\n",
    "except Exception:\n",
    "    pass"
   ]
  },
  {
   "cell_type": "code",
   "execution_count": null,
   "metadata": {},
   "outputs": [],
   "source": [
    "x = requests.get(\"https://otx.alienvault.com/api/v1/pulses/54e7650013432a12badec7e7\", {\n",
    "    'X-OTX-API-KEY': otx_api_key,\n",
    "})\n",
    "pprint(x.json())"
   ]
  },
  {
   "cell_type": "code",
   "execution_count": null,
   "metadata": {},
   "outputs": [],
   "source": [
    "# Close the connection\n",
    "connection.close()"
   ]
  },
  {
   "cell_type": "code",
   "execution_count": null,
   "metadata": {},
   "outputs": [],
   "source": []
  }
 ],
 "metadata": {
  "kernelspec": {
   "display_name": "Python 3",
   "language": "python",
   "name": "python3"
  },
  "language_info": {
   "codemirror_mode": {
    "name": "ipython",
    "version": 3
   },
   "file_extension": ".py",
   "mimetype": "text/x-python",
   "name": "python",
   "nbconvert_exporter": "python",
   "pygments_lexer": "ipython3",
   "version": "3.10.11"
  }
 },
 "nbformat": 4,
 "nbformat_minor": 2
}
