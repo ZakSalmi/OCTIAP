{
 "cells": [
  {
   "cell_type": "markdown",
   "metadata": {},
   "source": [
    "# Install libraries"
   ]
  },
  {
   "cell_type": "code",
   "execution_count": 1,
   "metadata": {},
   "outputs": [
    {
     "name": "stdout",
     "output_type": "stream",
     "text": [
      "Collecting pyspark\n",
      "  Downloading pyspark-3.5.0.tar.gz (316.9 MB)\n",
      "\u001b[2K     \u001b[90m━━━━━━━━━━━━━━━━━━━━━━━━━━━━━━━━━━━━━━━\u001b[0m \u001b[32m316.9/316.9 MB\u001b[0m \u001b[31m3.0 MB/s\u001b[0m eta \u001b[36m0:00:00\u001b[0m00:01\u001b[0m00:01\u001b[0m\n",
      "\u001b[?25h  Preparing metadata (setup.py) ... \u001b[?25ldone\n",
      "\u001b[?25hCollecting py4j==0.10.9.7 (from pyspark)\n",
      "  Downloading py4j-0.10.9.7-py2.py3-none-any.whl (200 kB)\n",
      "\u001b[2K     \u001b[90m━━━━━━━━━━━━━━━━━━━━━━━━━━━━━━━━━━━━━━━\u001b[0m \u001b[32m200.5/200.5 kB\u001b[0m \u001b[31m4.9 MB/s\u001b[0m eta \u001b[36m0:00:00\u001b[0ma \u001b[36m0:00:01\u001b[0m\n",
      "\u001b[?25hBuilding wheels for collected packages: pyspark\n",
      "  Building wheel for pyspark (setup.py) ... \u001b[?25ldone\n",
      "\u001b[?25h  Created wheel for pyspark: filename=pyspark-3.5.0-py2.py3-none-any.whl size=317425360 sha256=5cdf76bf1d875e7e55e55f21654d69bbb0f88cf203360ed86b6e656c216434d6\n",
      "  Stored in directory: /Users/joaopino/Library/Caches/pip/wheels/57/bd/14/ce9e21f2649298678d011fb8f71ed38ee70b42b94fef0be142\n",
      "Successfully built pyspark\n",
      "Installing collected packages: py4j, pyspark\n",
      "Successfully installed py4j-0.10.9.7 pyspark-3.5.0\n",
      "\n",
      "\u001b[1m[\u001b[0m\u001b[34;49mnotice\u001b[0m\u001b[1;39;49m]\u001b[0m\u001b[39;49m A new release of pip is available: \u001b[0m\u001b[31;49m23.2.1\u001b[0m\u001b[39;49m -> \u001b[0m\u001b[32;49m23.3.2\u001b[0m\n",
      "\u001b[1m[\u001b[0m\u001b[34;49mnotice\u001b[0m\u001b[1;39;49m]\u001b[0m\u001b[39;49m To update, run: \u001b[0m\u001b[32;49mpip3 install --upgrade pip\u001b[0m\n",
      "Collecting OTXv2\n",
      "  Downloading OTXv2-1.5.12-py3-none-any.whl (16 kB)\n",
      "Requirement already satisfied: requests in /Library/Frameworks/Python.framework/Versions/3.9/lib/python3.9/site-packages (from OTXv2) (2.26.0)\n",
      "Requirement already satisfied: python-dateutil in /Library/Frameworks/Python.framework/Versions/3.9/lib/python3.9/site-packages (from OTXv2) (2.8.2)\n",
      "Requirement already satisfied: pytz in /Library/Frameworks/Python.framework/Versions/3.9/lib/python3.9/site-packages (from OTXv2) (2021.3)\n",
      "Requirement already satisfied: six>=1.5 in /Library/Frameworks/Python.framework/Versions/3.9/lib/python3.9/site-packages (from python-dateutil->OTXv2) (1.16.0)\n",
      "Requirement already satisfied: urllib3<1.27,>=1.21.1 in /Library/Frameworks/Python.framework/Versions/3.9/lib/python3.9/site-packages (from requests->OTXv2) (1.26.7)\n",
      "Requirement already satisfied: certifi>=2017.4.17 in /Library/Frameworks/Python.framework/Versions/3.9/lib/python3.9/site-packages (from requests->OTXv2) (2021.10.8)\n",
      "Requirement already satisfied: charset-normalizer~=2.0.0 in /Library/Frameworks/Python.framework/Versions/3.9/lib/python3.9/site-packages (from requests->OTXv2) (2.0.7)\n",
      "Requirement already satisfied: idna<4,>=2.5 in /Library/Frameworks/Python.framework/Versions/3.9/lib/python3.9/site-packages (from requests->OTXv2) (3.3)\n",
      "Installing collected packages: OTXv2\n",
      "Successfully installed OTXv2-1.5.12\n",
      "\n",
      "\u001b[1m[\u001b[0m\u001b[34;49mnotice\u001b[0m\u001b[1;39;49m]\u001b[0m\u001b[39;49m A new release of pip is available: \u001b[0m\u001b[31;49m23.2.1\u001b[0m\u001b[39;49m -> \u001b[0m\u001b[32;49m23.3.2\u001b[0m\n",
      "\u001b[1m[\u001b[0m\u001b[34;49mnotice\u001b[0m\u001b[1;39;49m]\u001b[0m\u001b[39;49m To update, run: \u001b[0m\u001b[32;49mpip3 install --upgrade pip\u001b[0m\n"
     ]
    }
   ],
   "source": [
    "!pip3 install pyspark\n",
    "!pip3 install OTXv2"
   ]
  },
  {
   "cell_type": "code",
   "execution_count": 2,
   "metadata": {},
   "outputs": [
    {
     "name": "stdout",
     "output_type": "stream",
     "text": [
      "Collecting httpx\n",
      "  Obtaining dependency information for httpx from https://files.pythonhosted.org/packages/a2/65/6940eeb21dcb2953778a6895281c179efd9100463ff08cb6232bb6480da7/httpx-0.25.2-py3-none-any.whl.metadata\n",
      "  Downloading httpx-0.25.2-py3-none-any.whl.metadata (6.9 kB)\n",
      "Collecting anyio (from httpx)\n",
      "  Obtaining dependency information for anyio from https://files.pythonhosted.org/packages/bf/cd/d6d9bb1dadf73e7af02d18225cbd2c93f8552e13130484f1c8dcfece292b/anyio-4.2.0-py3-none-any.whl.metadata\n",
      "  Downloading anyio-4.2.0-py3-none-any.whl.metadata (4.6 kB)\n",
      "Requirement already satisfied: certifi in /Library/Frameworks/Python.framework/Versions/3.9/lib/python3.9/site-packages (from httpx) (2021.10.8)\n",
      "Collecting httpcore==1.* (from httpx)\n",
      "  Obtaining dependency information for httpcore==1.* from https://files.pythonhosted.org/packages/56/ba/78b0a99c4da0ff8b0f59defa2f13ca4668189b134bd9840b6202a93d9a0f/httpcore-1.0.2-py3-none-any.whl.metadata\n",
      "  Downloading httpcore-1.0.2-py3-none-any.whl.metadata (20 kB)\n",
      "Requirement already satisfied: idna in /Library/Frameworks/Python.framework/Versions/3.9/lib/python3.9/site-packages (from httpx) (3.3)\n",
      "Collecting sniffio (from httpx)\n",
      "  Downloading sniffio-1.3.0-py3-none-any.whl (10 kB)\n",
      "Collecting h11<0.15,>=0.13 (from httpcore==1.*->httpx)\n",
      "  Downloading h11-0.14.0-py3-none-any.whl (58 kB)\n",
      "\u001b[2K     \u001b[90m━━━━━━━━━━━━━━━━━━━━━━━━━━━━━━━━━━━━━━━━\u001b[0m \u001b[32m58.3/58.3 kB\u001b[0m \u001b[31m1.7 MB/s\u001b[0m eta \u001b[36m0:00:00\u001b[0m\n",
      "\u001b[?25hRequirement already satisfied: exceptiongroup>=1.0.2 in /Users/joaopino/Library/Python/3.9/lib/python/site-packages (from anyio->httpx) (1.1.3)\n",
      "Requirement already satisfied: typing-extensions>=4.1 in /Library/Frameworks/Python.framework/Versions/3.9/lib/python3.9/site-packages (from anyio->httpx) (4.5.0)\n",
      "Downloading httpx-0.25.2-py3-none-any.whl (74 kB)\n",
      "\u001b[2K   \u001b[90m━━━━━━━━━━━━━━━━━━━━━━━━━━━━━━━━━━━━━━━━\u001b[0m \u001b[32m75.0/75.0 kB\u001b[0m \u001b[31m2.2 MB/s\u001b[0m eta \u001b[36m0:00:00\u001b[0m\n",
      "\u001b[?25hDownloading httpcore-1.0.2-py3-none-any.whl (76 kB)\n",
      "\u001b[2K   \u001b[90m━━━━━━━━━━━━━━━━━━━━━━━━━━━━━━━━━━━━━━━━\u001b[0m \u001b[32m76.9/76.9 kB\u001b[0m \u001b[31m1.6 MB/s\u001b[0m eta \u001b[36m0:00:00\u001b[0mta \u001b[36m0:00:01\u001b[0m\n",
      "\u001b[?25hDownloading anyio-4.2.0-py3-none-any.whl (85 kB)\n",
      "\u001b[2K   \u001b[90m━━━━━━━━━━━━━━━━━━━━━━━━━━━━━━━━━━━━━━━━\u001b[0m \u001b[32m85.5/85.5 kB\u001b[0m \u001b[31m2.8 MB/s\u001b[0m eta \u001b[36m0:00:00\u001b[0m\n",
      "\u001b[?25hInstalling collected packages: sniffio, h11, httpcore, anyio, httpx\n",
      "Successfully installed anyio-4.2.0 h11-0.14.0 httpcore-1.0.2 httpx-0.25.2 sniffio-1.3.0\n",
      "\n",
      "\u001b[1m[\u001b[0m\u001b[34;49mnotice\u001b[0m\u001b[1;39;49m]\u001b[0m\u001b[39;49m A new release of pip is available: \u001b[0m\u001b[31;49m23.2.1\u001b[0m\u001b[39;49m -> \u001b[0m\u001b[32;49m23.3.2\u001b[0m\n",
      "\u001b[1m[\u001b[0m\u001b[34;49mnotice\u001b[0m\u001b[1;39;49m]\u001b[0m\u001b[39;49m To update, run: \u001b[0m\u001b[32;49mpip3 install --upgrade pip\u001b[0m\n"
     ]
    }
   ],
   "source": [
    "!pip3 install httpx"
   ]
  },
  {
   "cell_type": "markdown",
   "metadata": {},
   "source": [
    "# Imports"
   ]
  },
  {
   "cell_type": "code",
   "execution_count": 3,
   "metadata": {},
   "outputs": [],
   "source": [
    "# Access and see the db file\n",
    "import sqlite3\n",
    "import pandas as pd\n",
    "from pandas import json_normalize\n",
    "# PySpark\n",
    "import pyspark\n",
    "from pyspark.sql import SparkSession\n",
    "# Drive\n",
    "from OTXv2 import  OTXv2, IndicatorTypes\n",
    "from tqdm import tqdm\n",
    "\n",
    "import json"
   ]
  },
  {
   "cell_type": "markdown",
   "metadata": {},
   "source": [
    "# Get all the pulses"
   ]
  },
  {
   "cell_type": "code",
   "execution_count": null,
   "metadata": {},
   "outputs": [],
   "source": [
    "key = \"b33bf61f62c7e7da86bb84481591a0844630323831ec210fd8c2e2efbfdc131a\"\n",
    "otx = OTXv2(key)\n",
    "\n",
    "pulses = otx.getall()"
   ]
  },
  {
   "cell_type": "code",
   "execution_count": null,
   "metadata": {},
   "outputs": [],
   "source": [
    "json_normalize(pulses)"
   ]
  },
  {
   "cell_type": "code",
   "execution_count": null,
   "metadata": {},
   "outputs": [],
   "source": [
    "json_normalize(pulses[1][\"indicators\"])\n"
   ]
  },
  {
   "cell_type": "code",
   "execution_count": null,
   "metadata": {},
   "outputs": [],
   "source": [
    "json_normalize(pulses[1][\"indicators\"][1])"
   ]
  },
  {
   "cell_type": "code",
   "execution_count": 3,
   "metadata": {},
   "outputs": [
    {
     "name": "stdout",
     "output_type": "stream",
     "text": [
      "3557\n",
      "3557\n",
      "3557\n"
     ]
    }
   ],
   "source": [
    "from pandas import json_normalize\n",
    "# Get indicator IDs, names and created_dates\n",
    "indicator_ids = list()\n",
    "indicator_names = list()\n",
    "created_date_list = list()\n",
    "\n",
    "for pulse in pulses:\n",
    "    for indicator in pulse[\"indicators\"]:\n",
    "        if indicator[\"type\"] == \"IPv4\":\n",
    "            indicator_ids.append(indicator[\"id\"])\n",
    "            created_date_list.append(indicator[\"created\"])\n",
    "            indicator_names.append(indicator[\"indicator\"])\n",
    "        \n",
    "import gc\n",
    "del pulses\n",
    "gc.collect()\n",
    "\n",
    "# Get all the indicator ids and created dates\n",
    "print(len(indicator_ids))\n",
    "print(len(created_date_list))\n",
    "print(len(indicator_names))"
   ]
  },
  {
   "cell_type": "code",
   "execution_count": 5,
   "metadata": {},
   "outputs": [
    {
     "name": "stderr",
     "output_type": "stream",
     "text": [
      "  3%|▎         | 90/3557 [00:56<45:19,  1.27it/s]  "
     ]
    },
    {
     "name": "stdout",
     "output_type": "stream",
     "text": [
      "Error in adding country name\n"
     ]
    },
    {
     "name": "stderr",
     "output_type": "stream",
     "text": [
      "  4%|▍         | 139/3557 [02:49<2:09:12,  2.27s/it]"
     ]
    },
    {
     "name": "stdout",
     "output_type": "stream",
     "text": [
      "Error in adding country name\n"
     ]
    },
    {
     "name": "stderr",
     "output_type": "stream",
     "text": [
      "  7%|▋         | 240/3557 [04:35<39:16,  1.41it/s]  "
     ]
    },
    {
     "name": "stdout",
     "output_type": "stream",
     "text": [
      "Error in adding country name\n"
     ]
    },
    {
     "name": "stderr",
     "output_type": "stream",
     "text": [
      "  8%|▊         | 289/3557 [05:10<30:46,  1.77it/s]  "
     ]
    },
    {
     "name": "stdout",
     "output_type": "stream",
     "text": [
      "Error in adding country name\n"
     ]
    },
    {
     "name": "stderr",
     "output_type": "stream",
     "text": [
      " 11%|█         | 390/3557 [08:35<2:02:38,  2.32s/it]"
     ]
    },
    {
     "name": "stdout",
     "output_type": "stream",
     "text": [
      "Error in adding country name\n"
     ]
    },
    {
     "name": "stderr",
     "output_type": "stream",
     "text": [
      " 12%|█▏        | 439/3557 [09:14<31:54,  1.63it/s]  "
     ]
    },
    {
     "name": "stdout",
     "output_type": "stream",
     "text": [
      "Error in adding country name\n"
     ]
    },
    {
     "name": "stderr",
     "output_type": "stream",
     "text": [
      " 15%|█▌        | 540/3557 [10:17<33:50,  1.49it/s]  "
     ]
    },
    {
     "name": "stdout",
     "output_type": "stream",
     "text": [
      "Error in adding country name\n"
     ]
    },
    {
     "name": "stderr",
     "output_type": "stream",
     "text": [
      " 17%|█▋        | 589/3557 [10:55<41:58,  1.18it/s]  "
     ]
    },
    {
     "name": "stdout",
     "output_type": "stream",
     "text": [
      "Error in adding country name\n"
     ]
    },
    {
     "name": "stderr",
     "output_type": "stream",
     "text": [
      " 19%|█▉        | 688/3557 [12:05<34:22,  1.39it/s]  "
     ]
    },
    {
     "name": "stdout",
     "output_type": "stream",
     "text": [
      "Error in adding country name\n"
     ]
    },
    {
     "name": "stderr",
     "output_type": "stream",
     "text": [
      " 21%|██        | 737/3557 [13:46<1:25:30,  1.82s/it]"
     ]
    },
    {
     "name": "stdout",
     "output_type": "stream",
     "text": [
      "Error in adding country name\n"
     ]
    },
    {
     "name": "stderr",
     "output_type": "stream",
     "text": [
      " 24%|██▎       | 836/3557 [15:50<41:21,  1.10it/s]  "
     ]
    },
    {
     "name": "stdout",
     "output_type": "stream",
     "text": [
      "Error in adding country name\n"
     ]
    },
    {
     "name": "stderr",
     "output_type": "stream",
     "text": [
      " 25%|██▍       | 885/3557 [16:35<38:07,  1.17it/s]  "
     ]
    },
    {
     "name": "stdout",
     "output_type": "stream",
     "text": [
      "Error in adding country name\n"
     ]
    },
    {
     "name": "stderr",
     "output_type": "stream",
     "text": [
      " 28%|██▊       | 986/3557 [21:07<2:43:00,  3.80s/it]"
     ]
    },
    {
     "name": "stdout",
     "output_type": "stream",
     "text": [
      "Error in adding country name\n"
     ]
    },
    {
     "name": "stderr",
     "output_type": "stream",
     "text": [
      " 29%|██▉       | 1035/3557 [21:48<43:12,  1.03s/it]  "
     ]
    },
    {
     "name": "stdout",
     "output_type": "stream",
     "text": [
      "Error in adding country name\n"
     ]
    },
    {
     "name": "stderr",
     "output_type": "stream",
     "text": [
      " 32%|███▏      | 1134/3557 [22:55<30:06,  1.34it/s]  "
     ]
    },
    {
     "name": "stdout",
     "output_type": "stream",
     "text": [
      "Error in adding country name\n"
     ]
    },
    {
     "name": "stderr",
     "output_type": "stream",
     "text": [
      " 33%|███▎      | 1183/3557 [24:39<1:24:01,  2.12s/it]"
     ]
    },
    {
     "name": "stdout",
     "output_type": "stream",
     "text": [
      "Error in adding country name\n"
     ]
    },
    {
     "name": "stderr",
     "output_type": "stream",
     "text": [
      " 36%|███▌      | 1282/3557 [26:01<28:15,  1.34it/s]  "
     ]
    },
    {
     "name": "stdout",
     "output_type": "stream",
     "text": [
      "Error in adding country name\n"
     ]
    },
    {
     "name": "stderr",
     "output_type": "stream",
     "text": [
      " 37%|███▋      | 1331/3557 [26:49<28:32,  1.30it/s]  "
     ]
    },
    {
     "name": "stdout",
     "output_type": "stream",
     "text": [
      "Error in adding country name\n"
     ]
    },
    {
     "name": "stderr",
     "output_type": "stream",
     "text": [
      " 40%|████      | 1430/3557 [28:03<24:06,  1.47it/s]  "
     ]
    },
    {
     "name": "stdout",
     "output_type": "stream",
     "text": [
      "Error in adding country name\n"
     ]
    },
    {
     "name": "stderr",
     "output_type": "stream",
     "text": [
      " 42%|████▏     | 1477/3557 [28:39<25:58,  1.33it/s]  "
     ]
    },
    {
     "name": "stdout",
     "output_type": "stream",
     "text": [
      "Error in adding country name\n"
     ]
    },
    {
     "name": "stderr",
     "output_type": "stream",
     "text": [
      " 44%|████▍     | 1572/3557 [32:48<1:41:30,  3.07s/it] "
     ]
    },
    {
     "name": "stdout",
     "output_type": "stream",
     "text": [
      "Error in adding country name\n"
     ]
    },
    {
     "name": "stderr",
     "output_type": "stream",
     "text": [
      " 48%|████▊     | 1703/3557 [34:39<31:48,  1.03s/it]  "
     ]
    },
    {
     "name": "stdout",
     "output_type": "stream",
     "text": [
      "Error in adding country name\n"
     ]
    },
    {
     "name": "stderr",
     "output_type": "stream",
     "text": [
      " 52%|█████▏    | 1834/3557 [37:32<25:14,  1.14it/s]  "
     ]
    },
    {
     "name": "stdout",
     "output_type": "stream",
     "text": [
      "Error in adding country name\n"
     ]
    },
    {
     "name": "stderr",
     "output_type": "stream",
     "text": [
      " 53%|█████▎    | 1883/3557 [38:30<58:59,  2.11s/it]  "
     ]
    },
    {
     "name": "stdout",
     "output_type": "stream",
     "text": [
      "Error in adding country name\n"
     ]
    },
    {
     "name": "stderr",
     "output_type": "stream",
     "text": [
      " 59%|█████▉    | 2097/3557 [49:12<4:31:37, 11.16s/it]"
     ]
    },
    {
     "name": "stdout",
     "output_type": "stream",
     "text": [
      "Error with GET\n"
     ]
    },
    {
     "name": "stderr",
     "output_type": "stream",
     "text": [
      "100%|██████████| 3557/3557 [1:47:04<00:00,  1.81s/it]  \n"
     ]
    }
   ],
   "source": [
    "countries = list()\n",
    "correct_dates = list()\n",
    "rows = list()\n",
    "\n",
    "for i in tqdm(range(0, len(indicator_ids))):\n",
    "    try :\n",
    "        indicator_details = otx.get_indicator_details_full(IndicatorTypes.IPv4, indicator_names[i])\n",
    "    except:\n",
    "        print(\"Error with GET\")\n",
    "        countries.append(\"Spain\")\n",
    "        correct_dates.append(\"2022-01-01\")\n",
    "    \n",
    "    try: name = indicator_details[\"geo\"][\"country_name\"]\n",
    "    except:\n",
    "        print(\"Error in adding country name\")\n",
    "        name = \"Spain\"\n",
    "    \n",
    "    for url_info in indicator_details[\"url_list\"][\"url_list\"]:\n",
    "        row = list()\n",
    "        # ADD ID\n",
    "        try: row.append(indicator_ids[i])\n",
    "        except: \n",
    "            print(\"Error in adding indicator id\")\n",
    "            row.append(indicator_ids[i-1])\n",
    "        # ADD Country name\n",
    "        row.append(name)\n",
    "        # ADD date\n",
    "        try: row.append(url_info[\"date\"][:10])\n",
    "        except: \n",
    "            print(\"Error in adding date\")\n",
    "            row.append(\"2022-01-01\")\n",
    "        rows.append(row)\n",
    "            "
   ]
  },
  {
   "cell_type": "code",
   "execution_count": 6,
   "metadata": {},
   "outputs": [
    {
     "name": "stderr",
     "output_type": "stream",
     "text": [
      "Setting default log level to \"WARN\".\n",
      "To adjust logging level use sc.setLogLevel(newLevel). For SparkR, use setLogLevel(newLevel).\n",
      "23/12/20 04:19:11 WARN NativeCodeLoader: Unable to load native-hadoop library for your platform... using builtin-java classes where applicable\n"
     ]
    },
    {
     "name": "stdout",
     "output_type": "stream",
     "text": [
      "root\n",
      " |-- ID: string (nullable = true)\n",
      " |-- Indicator: string (nullable = true)\n",
      " |-- Date: string (nullable = true)\n",
      "\n"
     ]
    },
    {
     "name": "stderr",
     "output_type": "stream",
     "text": [
      "                                                                                \r"
     ]
    },
    {
     "name": "stdout",
     "output_type": "stream",
     "text": [
      "+----------+--------------------+----------+\n",
      "|        ID|           Indicator|      Date|\n",
      "+----------+--------------------+----------+\n",
      "|3623709663|United States of ...|2023-01-31|\n",
      "|3623709663|United States of ...|2023-01-31|\n",
      "|3623709663|United States of ...|2022-03-30|\n",
      "|3623709664|United States of ...|2023-09-23|\n",
      "|3623709664|United States of ...|2023-01-31|\n",
      "|3623709664|United States of ...|2023-01-31|\n",
      "|3623709665|United States of ...|2023-01-31|\n",
      "|3623709665|United States of ...|2023-01-31|\n",
      "|3623709666|              Cyprus|2023-12-19|\n",
      "|3623709666|              Cyprus|2023-01-31|\n",
      "|3623709666|              Cyprus|2023-01-31|\n",
      "|3623709666|              Cyprus|2023-01-31|\n",
      "|3623709666|              Cyprus|2018-01-03|\n",
      "|3623709667|United States of ...|2023-03-22|\n",
      "|3623709667|United States of ...|2023-01-31|\n",
      "|3623709667|United States of ...|2023-01-31|\n",
      "|3623709668|United States of ...|2023-03-19|\n",
      "|3623709668|United States of ...|2023-01-31|\n",
      "|3623709668|United States of ...|2023-01-31|\n",
      "|3623866944|             Tunisia|2023-02-01|\n",
      "+----------+--------------------+----------+\n",
      "only showing top 20 rows\n",
      "\n"
     ]
    }
   ],
   "source": [
    "from pyspark.sql import SparkSession, Row\n",
    "from pyspark.sql.types import StructType,StructField, StringType, IntegerType, DateType\n",
    "\n",
    "spark = SparkSession.builder.appName('sparkdf').getOrCreate() \n",
    "\n",
    "schema = StructType([ \\\n",
    "    StructField(\"ID\",StringType(),True), \\\n",
    "    StructField(\"Indicator\",StringType(),True), \\\n",
    "    StructField(\"Date\",StringType(),True), \\\n",
    "  ])\n",
    "\n",
    "dataframe = spark.createDataFrame(rows, schema=schema) \n",
    "\n",
    "dataframe.printSchema()\n",
    "\n",
    "dataframe.show()\n",
    "\n"
   ]
  },
  {
   "cell_type": "code",
   "execution_count": null,
   "metadata": {},
   "outputs": [],
   "source": [
    "print((dataframe.count(), len(dataframe.columns)))\n",
    "dataframe.toPandas().to_csv('/Users/joaopino/Desktop/OST/OCTIAP/data/mycsv.csv')"
   ]
  },
  {
   "cell_type": "code",
   "execution_count": 65,
   "metadata": {},
   "outputs": [],
   "source": [
    "# A JSON dataset is pointed to by path.\n",
    "# The path can be either a single text file or a directory storing text files\n",
    "path = \"/Users/joaopino/Desktop/OST/OCTIAP/data/mycsv.csv\"\n",
    "\n",
    "dataframe_df = pd.read_csv(path)\n"
   ]
  },
  {
   "cell_type": "code",
   "execution_count": 66,
   "metadata": {},
   "outputs": [
    {
     "data": {
      "text/html": [
       "<div>\n",
       "<style scoped>\n",
       "    .dataframe tbody tr th:only-of-type {\n",
       "        vertical-align: middle;\n",
       "    }\n",
       "\n",
       "    .dataframe tbody tr th {\n",
       "        vertical-align: top;\n",
       "    }\n",
       "\n",
       "    .dataframe thead th {\n",
       "        text-align: right;\n",
       "    }\n",
       "</style>\n",
       "<table border=\"1\" class=\"dataframe\">\n",
       "  <thead>\n",
       "    <tr style=\"text-align: right;\">\n",
       "      <th></th>\n",
       "      <th>Unnamed: 0</th>\n",
       "      <th>ID</th>\n",
       "      <th>Indicator</th>\n",
       "      <th>Date</th>\n",
       "      <th>occurrences</th>\n",
       "    </tr>\n",
       "  </thead>\n",
       "  <tbody>\n",
       "    <tr>\n",
       "      <th>0</th>\n",
       "      <td>0</td>\n",
       "      <td>3623709663</td>\n",
       "      <td>United States of America</td>\n",
       "      <td>738551</td>\n",
       "      <td>247</td>\n",
       "    </tr>\n",
       "    <tr>\n",
       "      <th>2</th>\n",
       "      <td>2</td>\n",
       "      <td>3623709663</td>\n",
       "      <td>United States of America</td>\n",
       "      <td>738244</td>\n",
       "      <td>13</td>\n",
       "    </tr>\n",
       "    <tr>\n",
       "      <th>3</th>\n",
       "      <td>3</td>\n",
       "      <td>3623709664</td>\n",
       "      <td>United States of America</td>\n",
       "      <td>738786</td>\n",
       "      <td>13</td>\n",
       "    </tr>\n",
       "    <tr>\n",
       "      <th>8</th>\n",
       "      <td>8</td>\n",
       "      <td>3623709666</td>\n",
       "      <td>Cyprus</td>\n",
       "      <td>738873</td>\n",
       "      <td>13</td>\n",
       "    </tr>\n",
       "    <tr>\n",
       "      <th>9</th>\n",
       "      <td>9</td>\n",
       "      <td>3623709666</td>\n",
       "      <td>Cyprus</td>\n",
       "      <td>738551</td>\n",
       "      <td>39</td>\n",
       "    </tr>\n",
       "    <tr>\n",
       "      <th>...</th>\n",
       "      <td>...</td>\n",
       "      <td>...</td>\n",
       "      <td>...</td>\n",
       "      <td>...</td>\n",
       "      <td>...</td>\n",
       "    </tr>\n",
       "    <tr>\n",
       "      <th>17265</th>\n",
       "      <td>17265</td>\n",
       "      <td>2141615</td>\n",
       "      <td>Ukraine</td>\n",
       "      <td>736940</td>\n",
       "      <td>1</td>\n",
       "    </tr>\n",
       "    <tr>\n",
       "      <th>17266</th>\n",
       "      <td>17266</td>\n",
       "      <td>2141615</td>\n",
       "      <td>Ukraine</td>\n",
       "      <td>736917</td>\n",
       "      <td>1</td>\n",
       "    </tr>\n",
       "    <tr>\n",
       "      <th>17267</th>\n",
       "      <td>17267</td>\n",
       "      <td>2141615</td>\n",
       "      <td>Ukraine</td>\n",
       "      <td>736860</td>\n",
       "      <td>1</td>\n",
       "    </tr>\n",
       "    <tr>\n",
       "      <th>17268</th>\n",
       "      <td>17268</td>\n",
       "      <td>2141615</td>\n",
       "      <td>Ukraine</td>\n",
       "      <td>736859</td>\n",
       "      <td>1</td>\n",
       "    </tr>\n",
       "    <tr>\n",
       "      <th>17269</th>\n",
       "      <td>17269</td>\n",
       "      <td>2141615</td>\n",
       "      <td>Ukraine</td>\n",
       "      <td>736354</td>\n",
       "      <td>1</td>\n",
       "    </tr>\n",
       "  </tbody>\n",
       "</table>\n",
       "<p>1402 rows × 5 columns</p>\n",
       "</div>"
      ],
      "text/plain": [
       "       Unnamed: 0          ID                 Indicator    Date  occurrences\n",
       "0               0  3623709663  United States of America  738551          247\n",
       "2               2  3623709663  United States of America  738244           13\n",
       "3               3  3623709664  United States of America  738786           13\n",
       "8               8  3623709666                    Cyprus  738873           13\n",
       "9               9  3623709666                    Cyprus  738551           39\n",
       "...           ...         ...                       ...     ...          ...\n",
       "17265       17265     2141615                   Ukraine  736940            1\n",
       "17266       17266     2141615                   Ukraine  736917            1\n",
       "17267       17267     2141615                   Ukraine  736860            1\n",
       "17268       17268     2141615                   Ukraine  736859            1\n",
       "17269       17269     2141615                   Ukraine  736354            1\n",
       "\n",
       "[1402 rows x 5 columns]"
      ]
     },
     "execution_count": 66,
     "metadata": {},
     "output_type": "execute_result"
    }
   ],
   "source": [
    "import pandas as pd\n",
    "import datetime as dt\n",
    "\n",
    "# Assuming df is your DataFrame with 'date' and 'country' columns\n",
    "# If your 'date' column is not in datetime format, you might want to convert it first\n",
    "dataframe_df['Date'] = pd.to_datetime(dataframe_df['Date'])\n",
    "\n",
    "# Group by 'date' and 'country', and then count occurrences\n",
    "dataframe_df['occurrences'] = dataframe_df.groupby(['Date', 'Indicator'])['Indicator'].transform('count')\n",
    "\n",
    "# If you want to remove duplicates and keep only unique combinations of date and country\n",
    "dataframe_df.drop_duplicates(['Date', 'Indicator'], inplace=True)\n",
    "\n",
    "# Display the DataFrame\n",
    "\n",
    "dataframe_df['Date'] = pd.to_datetime(dataframe_df['Date'])\n",
    "dataframe_df['Date']=dataframe_df['Date'].map(dt.datetime.toordinal)\n",
    "\n",
    "dataframe_df\n",
    "#738551 247"
   ]
  },
  {
   "cell_type": "code",
   "execution_count": 70,
   "metadata": {},
   "outputs": [
    {
     "name": "stdout",
     "output_type": "stream",
     "text": [
      "{'United States of America': 1, 'Cyprus': 2, 'Tunisia': 3, 'India': 4, 'Australia': 5, 'Malaysia': 6, 'United Kingdom of Great Britain and Northern Ireland': 7, 'Singapore': 8, 'Korea, Republic of': 9, 'Italy': 10, 'Egypt': 11, 'Germany': 12, 'Thailand': 13, 'Canada': 14, 'Qatar': 15, 'Argentina': 16, 'Israel': 17, 'Angola': 18, 'Algeria': 19, 'Venezuela, Bolivarian Republic of': 20, 'Sweden': 21, 'France': 22, 'Russian Federation': 23, 'Spain': 24, 'Saudi Arabia': 25, 'China': 26, 'Portugal': 27, 'Switzerland': 28, 'United Arab Emirates': 29, 'Greece': 30, 'Denmark': 31, 'Poland': 32, 'Netherlands': 33, 'Philippines': 34, 'Morocco': 35, 'Japan': 36, 'Iran, Islamic Republic of': 37, 'Lithuania': 38, 'Brazil': 39, 'Czechia': 40, 'Romania': 41, 'Bulgaria': 42, 'Moldova, Republic of': 43, 'South Africa': 44, 'Iraq': 45, 'Serbia': 46, 'Pakistan': 47, 'Indonesia': 48, 'Croatia': 49, 'Slovakia': 50, 'Taiwan': 51, 'Kazakhstan': 52, 'Türkiye': 53, 'Ukraine': 54, 'Austria': 55, 'Luxembourg': 56, 'Kuwait': 57, 'Slovenia': 58, 'Armenia': 59, 'Georgia': 60, 'Norway': 61, 'Jordan': 62, 'Namibia': 63, 'Libya': 64, 'Rwanda': 65, 'Cameroon': 66, 'Kenya': 67, 'Nigeria': 68, 'Zambia': 69, 'Azerbaijan': 70, 'Hungary': 71, 'Belgium': 72, 'Bangladesh': 73, 'Hong Kong': 74, 'Nepal': 75, 'Sri Lanka': 76, 'Colombia': 77, 'Dominican Republic': 78, 'Maldives': 79, 'Bahrain': 80, 'Estonia': 81, 'Mexico': 82, 'New Zealand': 83}\n"
     ]
    }
   ],
   "source": [
    "def create_mapping_dict(dataframe, column):\n",
    "    mapping_dict = {}\n",
    "    \n",
    "    unique_values = dataframe[column].unique()\n",
    "    mapping_dict.update({value: index + 1 for index, value in enumerate(unique_values)})\n",
    "\n",
    "    return mapping_dict\n",
    "\n",
    "dictt = create_mapping_dict(dataframe_df,\"Indicator\")\n",
    "print(dictt)"
   ]
  },
  {
   "cell_type": "code",
   "execution_count": 71,
   "metadata": {},
   "outputs": [
    {
     "data": {
      "text/html": [
       "<div>\n",
       "<style scoped>\n",
       "    .dataframe tbody tr th:only-of-type {\n",
       "        vertical-align: middle;\n",
       "    }\n",
       "\n",
       "    .dataframe tbody tr th {\n",
       "        vertical-align: top;\n",
       "    }\n",
       "\n",
       "    .dataframe thead th {\n",
       "        text-align: right;\n",
       "    }\n",
       "</style>\n",
       "<table border=\"1\" class=\"dataframe\">\n",
       "  <thead>\n",
       "    <tr style=\"text-align: right;\">\n",
       "      <th></th>\n",
       "      <th>Unnamed: 0</th>\n",
       "      <th>ID</th>\n",
       "      <th>Indicator</th>\n",
       "      <th>Date</th>\n",
       "      <th>occurrences</th>\n",
       "    </tr>\n",
       "  </thead>\n",
       "  <tbody>\n",
       "    <tr>\n",
       "      <th>0</th>\n",
       "      <td>0</td>\n",
       "      <td>3623709663</td>\n",
       "      <td>1</td>\n",
       "      <td>738551</td>\n",
       "      <td>247</td>\n",
       "    </tr>\n",
       "    <tr>\n",
       "      <th>2</th>\n",
       "      <td>2</td>\n",
       "      <td>3623709663</td>\n",
       "      <td>1</td>\n",
       "      <td>738244</td>\n",
       "      <td>13</td>\n",
       "    </tr>\n",
       "    <tr>\n",
       "      <th>3</th>\n",
       "      <td>3</td>\n",
       "      <td>3623709664</td>\n",
       "      <td>1</td>\n",
       "      <td>738786</td>\n",
       "      <td>13</td>\n",
       "    </tr>\n",
       "    <tr>\n",
       "      <th>8</th>\n",
       "      <td>8</td>\n",
       "      <td>3623709666</td>\n",
       "      <td>2</td>\n",
       "      <td>738873</td>\n",
       "      <td>13</td>\n",
       "    </tr>\n",
       "    <tr>\n",
       "      <th>9</th>\n",
       "      <td>9</td>\n",
       "      <td>3623709666</td>\n",
       "      <td>2</td>\n",
       "      <td>738551</td>\n",
       "      <td>39</td>\n",
       "    </tr>\n",
       "    <tr>\n",
       "      <th>...</th>\n",
       "      <td>...</td>\n",
       "      <td>...</td>\n",
       "      <td>...</td>\n",
       "      <td>...</td>\n",
       "      <td>...</td>\n",
       "    </tr>\n",
       "    <tr>\n",
       "      <th>17265</th>\n",
       "      <td>17265</td>\n",
       "      <td>2141615</td>\n",
       "      <td>54</td>\n",
       "      <td>736940</td>\n",
       "      <td>1</td>\n",
       "    </tr>\n",
       "    <tr>\n",
       "      <th>17266</th>\n",
       "      <td>17266</td>\n",
       "      <td>2141615</td>\n",
       "      <td>54</td>\n",
       "      <td>736917</td>\n",
       "      <td>1</td>\n",
       "    </tr>\n",
       "    <tr>\n",
       "      <th>17267</th>\n",
       "      <td>17267</td>\n",
       "      <td>2141615</td>\n",
       "      <td>54</td>\n",
       "      <td>736860</td>\n",
       "      <td>1</td>\n",
       "    </tr>\n",
       "    <tr>\n",
       "      <th>17268</th>\n",
       "      <td>17268</td>\n",
       "      <td>2141615</td>\n",
       "      <td>54</td>\n",
       "      <td>736859</td>\n",
       "      <td>1</td>\n",
       "    </tr>\n",
       "    <tr>\n",
       "      <th>17269</th>\n",
       "      <td>17269</td>\n",
       "      <td>2141615</td>\n",
       "      <td>54</td>\n",
       "      <td>736354</td>\n",
       "      <td>1</td>\n",
       "    </tr>\n",
       "  </tbody>\n",
       "</table>\n",
       "<p>1402 rows × 5 columns</p>\n",
       "</div>"
      ],
      "text/plain": [
       "       Unnamed: 0          ID  Indicator    Date  occurrences\n",
       "0               0  3623709663          1  738551          247\n",
       "2               2  3623709663          1  738244           13\n",
       "3               3  3623709664          1  738786           13\n",
       "8               8  3623709666          2  738873           13\n",
       "9               9  3623709666          2  738551           39\n",
       "...           ...         ...        ...     ...          ...\n",
       "17265       17265     2141615         54  736940            1\n",
       "17266       17266     2141615         54  736917            1\n",
       "17267       17267     2141615         54  736860            1\n",
       "17268       17268     2141615         54  736859            1\n",
       "17269       17269     2141615         54  736354            1\n",
       "\n",
       "[1402 rows x 5 columns]"
      ]
     },
     "execution_count": 71,
     "metadata": {},
     "output_type": "execute_result"
    }
   ],
   "source": [
    "dataframe_df.replace(dictt, inplace=True)\n",
    "dataframe_df"
   ]
  },
  {
   "cell_type": "markdown",
   "metadata": {},
   "source": [
    "### Schema"
   ]
  },
  {
   "cell_type": "code",
   "execution_count": 72,
   "metadata": {},
   "outputs": [
    {
     "name": "stdout",
     "output_type": "stream",
     "text": [
      "root\n",
      " |-- Unnamed: 0: long (nullable = true)\n",
      " |-- ID: long (nullable = true)\n",
      " |-- Indicator: long (nullable = true)\n",
      " |-- Date: long (nullable = true)\n",
      " |-- occurrences: long (nullable = true)\n",
      "\n",
      "+----------+----------+---------+------+-----------+\n",
      "|Unnamed: 0|        ID|Indicator|  Date|occurrences|\n",
      "+----------+----------+---------+------+-----------+\n",
      "|         0|3623709663|        1|738551|        247|\n",
      "|         2|3623709663|        1|738244|         13|\n",
      "|         3|3623709664|        1|738786|         13|\n",
      "|         8|3623709666|        2|738873|         13|\n",
      "|         9|3623709666|        2|738551|         39|\n",
      "|        12|3623709666|        2|736697|         13|\n",
      "|        13|3623709667|        1|738601|         13|\n",
      "|        16|3623709668|        1|738598|         13|\n",
      "|        19|3623866944|        3|738552|         26|\n",
      "|        21|3623866944|        3|738551|         39|\n",
      "|        22|3623866930|        3|738560|         26|\n",
      "|        26|3600494305|        4|738575|         13|\n",
      "|        27|3600494305|        4|738508|         91|\n",
      "|        28|3600494305|        4|738506|         26|\n",
      "|        29|3600494305|        4|738504|         26|\n",
      "|        31|3602703413|        4|738600|         13|\n",
      "|        32|3602703413|        4|738573|         78|\n",
      "|        33|3602703413|        4|738561|         78|\n",
      "|        38|3624438678|        5|738589|         52|\n",
      "|        42|3624438678|        5|738558|         13|\n",
      "+----------+----------+---------+------+-----------+\n",
      "only showing top 20 rows\n",
      "\n",
      "<class 'pyspark.sql.dataframe.DataFrame'>\n"
     ]
    }
   ],
   "source": [
    "from pyspark.sql import SparkSession\n",
    "#Create PySpark SparkSession\n",
    "spark = SparkSession.builder \\\n",
    "    .master(\"local[1]\") \\\n",
    "    .appName(\"SparkByExamples.com\") \\\n",
    "    .getOrCreate()\n",
    "#Create PySpark DataFrame from Pandas\n",
    "sparkDF=spark.createDataFrame(dataframe_df) \n",
    "sparkDF.printSchema()\n",
    "sparkDF.show()\n",
    "\n",
    "print(type(sparkDF))"
   ]
  },
  {
   "cell_type": "code",
   "execution_count": 92,
   "metadata": {},
   "outputs": [
    {
     "name": "stderr",
     "output_type": "stream",
     "text": [
      "24/01/15 09:34:37 WARN Instrumentation: [0a476cd5] regParam is zero, which might cause numerical instability and overfitting.\n"
     ]
    }
   ],
   "source": [
    "from pyspark.ml.regression import LinearRegression\n",
    "from pyspark.ml.feature import VectorAssembler\n",
    "from pyspark.ml.evaluation import RegressionEvaluator\n",
    "\n",
    "assembler = VectorAssembler(\n",
    "    inputCols=[\"Indicator\",\"Date\"],\n",
    "    outputCol = \"Features\")\n",
    "\n",
    "data = assembler.transform(sparkDF)\n",
    "data = data.select('features', 'occurrences')\n",
    "\n",
    "lin_reg = LinearRegression(featuresCol='features',\n",
    "                           labelCol='occurrences',\n",
    "                           predictionCol='pred_score')\n",
    "train_data,test_data = data.randomSplit([0.7,0.3])\n",
    "\n",
    "fit = lin_reg.fit(train_data)\n"
   ]
  },
  {
   "cell_type": "code",
   "execution_count": 108,
   "metadata": {},
   "outputs": [
    {
     "name": "stdout",
     "output_type": "stream",
     "text": [
      "Data\n",
      "+--------------+-----------+\n",
      "|      features|occurrences|\n",
      "+--------------+-----------+\n",
      "|[1.0,736564.0]|          6|\n",
      "|[1.0,736568.0]|          2|\n",
      "|[1.0,736590.0]|          4|\n",
      "|[1.0,736591.0]|          6|\n",
      "|[1.0,736853.0]|         10|\n",
      "|[1.0,736944.0]|          2|\n",
      "|[1.0,737067.0]|          4|\n",
      "|[1.0,737280.0]|          1|\n",
      "|[1.0,737666.0]|         11|\n",
      "|[1.0,737826.0]|          2|\n",
      "+--------------+-----------+\n",
      "only showing top 10 rows\n",
      "\n",
      "Predictions\n",
      "+--------------+------------------+\n",
      "|      features|        pred_score|\n",
      "+--------------+------------------+\n",
      "|[1.0,736564.0]| 9.325566020821498|\n",
      "|[1.0,736568.0]| 9.355915590187578|\n",
      "|[1.0,736590.0]| 9.522838221695565|\n",
      "|[1.0,736591.0]| 9.530425614037085|\n",
      "|[1.0,736853.0]|11.518322407458982|\n",
      "|[1.0,736944.0]|12.208775110518218|\n",
      "|[1.0,737067.0]|13.142024368498824|\n",
      "|[1.0,737280.0]|14.758138937197145|\n",
      "|[1.0,737666.0]|17.686872380940258|\n",
      "|[1.0,737826.0]|18.900855155549834|\n",
      "+--------------+------------------+\n",
      "only showing top 10 rows\n",
      "\n"
     ]
    }
   ],
   "source": [
    "test_results = fit.evaluate(test_data) \n",
    "  \n",
    "#Printing Residuals which is the difference between the actua \n",
    "#l value and the value predicted by the model (y-ŷ) for any given point \n",
    "#test_results.residuals.show(5)\n",
    "\n",
    "\n",
    "unlabeled_data = test_data.select('features') \n",
    "  \n",
    "predictions = fit.transform(unlabeled_data) \n",
    "\n",
    "print(\"Data\")\n",
    "test_data.show(10)\n",
    "print(\"Predictions\")\n",
    "predictions.show(10)\n"
   ]
  },
  {
   "cell_type": "code",
   "execution_count": 88,
   "metadata": {},
   "outputs": [
    {
     "name": "stdout",
     "output_type": "stream",
     "text": [
      "+---------+------+\n",
      "|Indicator|  Date|\n",
      "+---------+------+\n",
      "|        1|738551|\n",
      "+---------+------+\n",
      "\n"
     ]
    }
   ],
   "source": [
    "from pyspark.sql.types import StructType, StructField, StringType\n",
    "\n",
    "columns = [\"Indicator\",\"Date\"]\n",
    "data = [(\"1\", \"738551\")]\n",
    "schema = StructType([StructField(col, StringType(), True) for col in columns])\n",
    "\n",
    "# Create a Spark DataFrame\n",
    "df = spark.createDataFrame(data, schema=schema)\n",
    "\n",
    "# Show the DataFrame\n",
    "df.show()\n",
    "\n",
    "\n",
    "\n"
   ]
  }
 ],
 "metadata": {
  "kernelspec": {
   "display_name": "Python 3",
   "language": "python",
   "name": "python3"
  },
  "language_info": {
   "codemirror_mode": {
    "name": "ipython",
    "version": 3
   },
   "file_extension": ".py",
   "mimetype": "text/x-python",
   "name": "python",
   "nbconvert_exporter": "python",
   "pygments_lexer": "ipython3",
   "version": "3.9.9"
  }
 },
 "nbformat": 4,
 "nbformat_minor": 2
}
